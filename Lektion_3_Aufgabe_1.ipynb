{
 "cells": [
  {
   "cell_type": "markdown",
   "id": "65007eb6-c680-4a49-aeda-4fb0b812c271",
   "metadata": {},
   "source": [
    "# Bedingte Anweisungen\n",
    "## Aufgabe A\n",
    "Schreibe ein Programm, bei dem zwei Variablen a, b mittels einer Eingabeaufforderung mit Ganzzahlen initialisiert werden. Gib aus, ob a größer, kleiner oder gleich b ist."
   ]
  },
  {
   "cell_type": "code",
   "execution_count": null,
   "id": "66a26224-f11e-4237-b0e3-740441df755e",
   "metadata": {},
   "outputs": [],
   "source": []
  },
  {
   "cell_type": "markdown",
   "id": "b111f0a6-23df-4cef-b9cf-16bf366f254b",
   "metadata": {},
   "source": [
    "## Aufgabe B\n",
    "Erweitere dein Programm auf die Eingabe von drei numerischen Werten. Gib den größten Wert aus.\n",
    "\n",
    "Hinweis: Bedingungen können mit `and` oder `and not` verknüpft werden."
   ]
  },
  {
   "cell_type": "code",
   "execution_count": null,
   "id": "43059975-5cb8-48f0-b4cb-1f31ad99db9c",
   "metadata": {},
   "outputs": [],
   "source": []
  }
 ],
 "metadata": {
  "kernelspec": {
   "display_name": "Python 3 (ipykernel)",
   "language": "python",
   "name": "python3"
  },
  "language_info": {
   "codemirror_mode": {
    "name": "ipython",
    "version": 3
   },
   "file_extension": ".py",
   "mimetype": "text/x-python",
   "name": "python",
   "nbconvert_exporter": "python",
   "pygments_lexer": "ipython3",
   "version": "3.12.3"
  }
 },
 "nbformat": 4,
 "nbformat_minor": 5
}
