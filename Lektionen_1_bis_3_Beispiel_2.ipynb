{
 "cells": [
  {
   "cell_type": "markdown",
   "id": "ad714107-716b-4590-b21c-79fed67de2d1",
   "metadata": {},
   "source": [
    "# Dateien, Collections, bedingte Anweisungen, Schleifen, List Comprehensions\n",
    "## Verwalte den Python-Kurs\n",
    "Die Datei Lektionen_1_bis_3_Studierende.txt enthält Studierenden-Daten nach folgendem Schema: \\<Name\\>; \\<Studiengang\\>; \\<Semester\\>; \\<Programmiererfahrung\\>. Der Name ist eindeutig. Der Eintrag zur Programmiererfahrung kann verschiedene kommaseparierte Informationen enthalten, nach dem Schema: \\<Erfahrung1\\>, \\<Erfahrung2\\>, .... Pro Zeile sind die Daten einer Person erfasst. Du kannst die Datei in einem Texteditor öffnen, um dir das Format und die Inhalte anzuschauen.\n",
    "## Aufgabe A\n",
    "Lies die Daten aus der Datei ein und speichere sie strukturiert in einer Variablen `python_course`. Jede Person soll als Dictionary mit den in `keys` gegebenen Schlüsseln dargestellt werden. Die Programmiererfahrungen sollen pro Person in einem Set gespeichert werden. Der gesamte Kurs soll als Liste dargestellt werden.\n",
    "\n",
    "Tipps: \n",
    "* Recherchiere [hier](https://docs.python.org/3/tutorial/inputoutput.html#methods-of-file-objects), wie du Dateien zeilenweise einlesen kannst. \n",
    "* Erinnere dich an die String-Funktion, mit der du einen String \"zerschneiden\" kannst."
   ]
  },
  {
   "cell_type": "code",
   "execution_count": 2,
   "id": "0a2fded9-7d34-49d9-86cb-cad61facf7db",
   "metadata": {
    "tags": []
   },
   "outputs": [],
   "source": [
    "#Die Schlüssel in dem Tupel (unveränderliche Liste) keys sollen zur Konstruktion der Dictionaries verwendet werden.\n",
    "#Führe diese Zelle einmal zu Beginn aus, so dass der Interpreter den Namen kennt\n",
    "keys = (\"Name\", \"Studiengang\", \"Semester\", \"Programmiererfahrung\")"
   ]
  },
  {
   "cell_type": "code",
   "execution_count": 3,
   "id": "77e71bbb-290d-4113-8664-b57b114b9b64",
   "metadata": {},
   "outputs": [
    {
     "name": "stdout",
     "output_type": "stream",
     "text": [
      "[{'Name': 'Robin', 'Studiengang': 'Künstliche Intelligenz', 'Semester': '3', 'Programmiererfahrung': {'Python'}}, {'Name': 'Christina', 'Studiengang': 'Cyber Security', 'Semester': '1', 'Programmiererfahrung': {'C/C++'}}, {'Name': 'Dominik', 'Studiengang': 'Robotik', 'Semester': '2', 'Programmiererfahrung': {'SPS'}}, {'Name': 'Yvonne', 'Studiengang': 'Elektrotechnik', 'Semester': '2', 'Programmiererfahrung': {'SPS', 'C/C++'}}, {'Name': 'Billel', 'Studiengang': 'Cyber Security', 'Semester': '1', 'Programmiererfahrung': {'keine'}}, {'Name': 'Paul', 'Studiengang': 'Cyber Security', 'Semester': '2', 'Programmiererfahrung': {'Fortran', 'C/C++'}}, {'Name': 'Christian', 'Studiengang': 'Elektrotechnik', 'Semester': '1', 'Programmiererfahrung': {'Java', 'SPS'}}, {'Name': 'Rahel', 'Studiengang': 'Cyber Security', 'Semester': '2', 'Programmiererfahrung': {'Java'}}, {'Name': 'Tomi', 'Studiengang': 'FinTech', 'Semester': '1', 'Programmiererfahrung': {'Python'}}, {'Name': 'Marie', 'Studiengang': 'Künstliche Intelligenz', 'Semester': '3', 'Programmiererfahrung': {'Python'}}]\n"
     ]
    }
   ],
   "source": [
    "python_course = [] #gesamter Kurs als Liste\n",
    "filename = \"Lektionen_1_bis_3_Studierende.txt\"\n",
    "#encoding=\"utf-8\" sorgt dafür, dass auch die Umlaute korrekt dargestellt werden\n",
    "#Anstelle des with-Statement können auch die Funktion open und die Methode close verwendet werden.\n",
    "#Mit dem with-Statement wird die Datei automatisch geschlossen, siehe z.B. das Beispiel hier: https://docs.python.org/3/whatsnew/2.5.html#pep-343-the-with-statement\n",
    "with open(filename, \"r\", encoding=\"utf-8\") as file:\n",
    "    for line in file: #eine andere Möglichkeit, die Dateiinhalte zeilenweise zu lesen, wäre die Verwendung der Methode readline\n",
    "        items = line.strip().split(\"; \") #strip entfernt führende und finale Leerzeichen und Newlines, split teilt die Zeichenkette in line an jeder Sequenz Semikolon+Leerzeichen auf\n",
    "        #items ist nun eine Liste der aufgeteilten Zeichenketten\n",
    "        #Programmiererfahrungen sind durch Kommata separiert. Diese werden weiter aufgeteilt, um sie anschließend unten in einem Set zu speichern.\n",
    "        programming_experiences = items[3].strip().split(\", \")\n",
    "        #Jede Person wird über ein Dictionary dargestellt\n",
    "        #Programmiererfahrungen werden als Set innerhalb der Dictionaries dargestellt, damit effizient nach einer bestimmten Erfahrung abgefragt werden kann\n",
    "        python_course.append({keys[0]:items[0], keys[1]:items[1], keys[2]:items[2], keys[3]:set(programming_experiences)}) \n",
    "print(python_course)"
   ]
  },
  {
   "cell_type": "markdown",
   "id": "6b45dc56-7d84-46d5-ae7c-a11d0395f8ef",
   "metadata": {},
   "source": [
    "## Aufgabe B\n",
    "* Gib die Teilnehmenden zeilenweise aus (eine Person pro Zeile)\n",
    "* Berechne das durchschnittliche Semester aller Teilnehmenden und gib dieses aus\n",
    "* Gib die Anzahl der Personen aus, die bereits Erfahrung mit Python haben"
   ]
  },
  {
   "cell_type": "code",
   "execution_count": 4,
   "id": "10869b52-09c3-4209-ba22-abd26da0f206",
   "metadata": {},
   "outputs": [
    {
     "name": "stdout",
     "output_type": "stream",
     "text": [
      "{'Name': 'Robin', 'Studiengang': 'Künstliche Intelligenz', 'Semester': '3', 'Programmiererfahrung': {'Python'}}\n",
      "{'Name': 'Christina', 'Studiengang': 'Cyber Security', 'Semester': '1', 'Programmiererfahrung': {'C/C++'}}\n",
      "{'Name': 'Dominik', 'Studiengang': 'Robotik', 'Semester': '2', 'Programmiererfahrung': {'SPS'}}\n",
      "{'Name': 'Yvonne', 'Studiengang': 'Elektrotechnik', 'Semester': '2', 'Programmiererfahrung': {'SPS', 'C/C++'}}\n",
      "{'Name': 'Billel', 'Studiengang': 'Cyber Security', 'Semester': '1', 'Programmiererfahrung': {'keine'}}\n",
      "{'Name': 'Paul', 'Studiengang': 'Cyber Security', 'Semester': '2', 'Programmiererfahrung': {'Fortran', 'C/C++'}}\n",
      "{'Name': 'Christian', 'Studiengang': 'Elektrotechnik', 'Semester': '1', 'Programmiererfahrung': {'Java', 'SPS'}}\n",
      "{'Name': 'Rahel', 'Studiengang': 'Cyber Security', 'Semester': '2', 'Programmiererfahrung': {'Java'}}\n",
      "{'Name': 'Tomi', 'Studiengang': 'FinTech', 'Semester': '1', 'Programmiererfahrung': {'Python'}}\n",
      "{'Name': 'Marie', 'Studiengang': 'Künstliche Intelligenz', 'Semester': '3', 'Programmiererfahrung': {'Python'}}\n",
      "Das durchschnittliche Semester aller Teilnehmenden ist: 1.8\n",
      "Es haben 3 Personen bereits Erfahrung mit Python.\n"
     ]
    }
   ],
   "source": [
    "sum_semester = 0\n",
    "python_experience_counter = 0\n",
    "for person in python_course: #Iteriere über alle Personen im Kurs\n",
    "    print(person) #Gib die aktuelle Person aus\n",
    "    #Summiere die Semester aller Personen, um später den Durchschnitt zu berechnen\n",
    "    sum_semester += int(person[keys[2]])\n",
    "    if \"Python\" in person[keys[3]]: #Zähle die Personen, die Python als Programmiererfahrung aufgeführt haben\n",
    "        python_experience_counter += 1 \n",
    "print(\"Das durchschnittliche Semester aller Teilnehmenden ist:\", sum_semester/len(python_course))\n",
    "print(\"Es haben\", python_experience_counter, \"Personen bereits Erfahrung mit Python.\")"
   ]
  },
  {
   "cell_type": "markdown",
   "id": "c88a17c1-6d33-4962-8f74-08c6c15fc66b",
   "metadata": {},
   "source": [
    "## Aufgabe C\n",
    "* Erstelle eine Liste der Namen aller Erstsemester unter Verwendung einer List Comprehension und gib diese aus"
   ]
  },
  {
   "cell_type": "code",
   "execution_count": 26,
   "id": "4577e710",
   "metadata": {},
   "outputs": [
    {
     "name": "stdout",
     "output_type": "stream",
     "text": [
      "Die Namen der Studierenden im ersten Semester lauten: ['Christina', 'Billel', 'Christian', 'Tomi']\n"
     ]
    }
   ],
   "source": [
    "first_semester = [person[keys[0]] for person in python_course if int(person[keys[2]]) == 1] #Die Semesterzahl ist als Zeichenkette gespeichert und wird in einen int gecastet\n",
    "print(\"Die Namen der Studierenden im ersten Semester lauten:\", first_semester)"
   ]
  },
  {
   "cell_type": "code",
   "execution_count": null,
   "id": "25d8631d-37dc-4134-969e-a9b93254e732",
   "metadata": {},
   "outputs": [],
   "source": []
  }
 ],
 "metadata": {
  "kernelspec": {
   "display_name": "Python 3 (ipykernel)",
   "language": "python",
   "name": "python3"
  },
  "language_info": {
   "codemirror_mode": {
    "name": "ipython",
    "version": 3
   },
   "file_extension": ".py",
   "mimetype": "text/x-python",
   "name": "python",
   "nbconvert_exporter": "python",
   "pygments_lexer": "ipython3",
   "version": "3.12.3"
  }
 },
 "nbformat": 4,
 "nbformat_minor": 5
}
