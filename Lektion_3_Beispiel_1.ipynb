{
 "cells": [
  {
   "cell_type": "markdown",
   "id": "65007eb6-c680-4a49-aeda-4fb0b812c271",
   "metadata": {},
   "source": [
    "# Bedingte Anweisungen\n",
    "## Aufgabe A\n",
    "Schreibe ein Programm, bei dem zwei Variablen a, b mittels einer Eingabeaufforderung mit Ganzzahlen initialisiert werden. Gib aus, ob a größer, kleiner oder gleich b ist."
   ]
  },
  {
   "cell_type": "code",
   "execution_count": null,
   "id": "47814e7a-1f13-47f5-9a6c-c2cd10c3d5a6",
   "metadata": {},
   "outputs": [],
   "source": [
    "a = int(input(\"Gib eine Zahl ein: a=\"))\n",
    "b = int(input(\"Gib eine Zahl ein: b=\"))\n",
    "if a>b:\n",
    "    print(\"a ist größer als b\")\n",
    "elif a<b:\n",
    "    print(\"a ist kleiner als b\")\n",
    "else:\n",
    "    print(\"a ist gleich b\")"
   ]
  },
  {
   "cell_type": "markdown",
   "id": "5c6d9715-6e63-4078-9d93-19f44943b910",
   "metadata": {},
   "source": [
    "## Aufgabe B\n",
    "Erweitere dein Programm auf die Eingabe von drei numerischen Werten. Gib den größten Wert aus.\n",
    "\n",
    "Hinweis: Bedingungen können mit `and` oder `and not` verknüpft werden."
   ]
  },
  {
   "cell_type": "code",
   "execution_count": null,
   "id": "a9a56629",
   "metadata": {},
   "outputs": [],
   "source": [
    "a = int(input(\"Gib eine Zahl ein: a=\"))\n",
    "b = int(input(\"Gib eine Zahl ein: b=\"))\n",
    "c = int(input(\"Gib eine Zahl ein: c=\"))\n",
    "max_value = None\n",
    "if a>b and a>c:\n",
    "    max_value = a\n",
    "elif b>c:\n",
    "    max_value = b\n",
    "else:\n",
    "    max_value = c\n",
    "print(f\"Der größte Wert ist {max_value}\")"
   ]
  },
  {
   "cell_type": "code",
   "execution_count": null,
   "id": "7d5ead3f-d101-4ae3-9006-dfeac4c625b9",
   "metadata": {},
   "outputs": [],
   "source": []
  }
 ],
 "metadata": {
  "kernelspec": {
   "display_name": "Python 3 (ipykernel)",
   "language": "python",
   "name": "python3"
  },
  "language_info": {
   "codemirror_mode": {
    "name": "ipython",
    "version": 3
   },
   "file_extension": ".py",
   "mimetype": "text/x-python",
   "name": "python",
   "nbconvert_exporter": "python",
   "pygments_lexer": "ipython3",
   "version": "3.12.3"
  }
 },
 "nbformat": 4,
 "nbformat_minor": 5
}
