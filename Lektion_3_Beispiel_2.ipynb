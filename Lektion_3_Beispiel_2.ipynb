{
 "cells": [
  {
   "cell_type": "markdown",
   "id": "20453472-f84e-4f6b-a6a4-57f4dc5bcd14",
   "metadata": {},
   "source": [
    "# Schleifen, bedingte Anweisungen und Comprehensions\n",
    "## Aufgabe A (for-Schleife, if-Anweisung)\n",
    "Erzeuge eine Liste der Zahlen von 0 bis 10. Iteriere über diese Liste und füge die Quadrate der geraden Zahlen in ein Set ein. Gib das Set aus."
   ]
  },
  {
   "cell_type": "code",
   "execution_count": 1,
   "id": "5333a345-79a4-42c9-afd7-aec5b039e24a",
   "metadata": {
    "tags": []
   },
   "outputs": [
    {
     "name": "stdout",
     "output_type": "stream",
     "text": [
      "{0, 64, 4, 36, 100, 16}\n"
     ]
    }
   ],
   "source": [
    "my_list = list(range(11))\n",
    "my_set = set()\n",
    "for item in my_list:\n",
    "    if item%2 == 0:\n",
    "        my_set.add(item**2)\n",
    "print(my_set)"
   ]
  },
  {
   "cell_type": "markdown",
   "id": "0587d74e-b357-472f-915d-7ce7dae602a5",
   "metadata": {},
   "source": [
    "## Aufgabe B (Comprehension)\n",
    "Löse Aufgabe A mittels einer Comprehension. Füge jedoch die geraden Zahlen selbst, nicht die Quadrate, in das Set ein."
   ]
  },
  {
   "cell_type": "code",
   "execution_count": 2,
   "id": "416efb61-140c-41da-b934-ca6803c99073",
   "metadata": {
    "tags": []
   },
   "outputs": [
    {
     "name": "stdout",
     "output_type": "stream",
     "text": [
      "{0, 2, 4, 6, 8, 10}\n"
     ]
    }
   ],
   "source": [
    "my_list = list(range(11))\n",
    "my_set = {item for item in my_list if item%2 == 0}\n",
    "print(my_set)"
   ]
  },
  {
   "cell_type": "markdown",
   "id": "3015eb7e-5a56-4c5e-baec-44afafb5d091",
   "metadata": {},
   "source": [
    "## Aufgabe C (while-Schleife, if-Anweisung)\n",
    "Schreibe ein Programm, bei dem zwei Variablen a, b mittels einer Eingabeaufforderung mit Ganzzahlen initialisiert werden können. Erlaube die Eingabe so lange, bis sichergestellt ist, dass die Zahlen nicht gleich sind. Gib dann die größere Zahl aus.\n",
    "\n",
    "Anmerkung: Es wird in diesem Beispiel auf eine Behandlung von Eingabefehlern verzichtet. Die Fehlerbehandlung wird in Lektion 5 eingeführt."
   ]
  },
  {
   "cell_type": "code",
   "execution_count": 4,
   "id": "c4f7dfa2-7d8a-4af4-9859-cb14c17d51ac",
   "metadata": {
    "tags": []
   },
   "outputs": [
    {
     "name": "stdout",
     "output_type": "stream",
     "text": [
      "Gib eine Zahl ein: a=1\n",
      "Gib eine Zahl ein: b=2\n",
      "Die größere Zahl ist b\n"
     ]
    }
   ],
   "source": [
    "a = int(input(\"Gib eine Zahl ein: a=\"))\n",
    "b = int(input(\"Gib eine Zahl ein: b=\"))\n",
    "\n",
    "while(a==b):\n",
    "    print(\"a = b =\", a)\n",
    "    b = int(input(\"Gib eine neue Zahl ein: b=\"))\n",
    "\n",
    "if a>b:\n",
    "    print(\"Die größere Zahl ist a\")\n",
    "else:\n",
    "    print(\"Die größere Zahl ist b\")"
   ]
  },
  {
   "cell_type": "markdown",
   "id": "29ceda32-04e2-4160-8ef6-858a80ffddb9",
   "metadata": {},
   "source": [
    "## Aufgabe D (Comprehension mit Strings)\n",
    "Gegeben sei eine Liste mit Vornamen. Verwende nun zwei List Comprehensions, um zwei weitere Listen zu erzeugen, eine mit allen Vornamen, die weniger als 6 Buchstaben enthalten, und eine mit allen Vornamen, die 6 oder mehr Buchstaben enthalten. Bei den kurzen Vornamen, hänge “ (short)” an, bei den langen, hänge “ (long)” an. Gib die Listen aus."
   ]
  },
  {
   "cell_type": "code",
   "execution_count": 5,
   "id": "ee178297-905b-4aa5-ab25-e3bfaea8f850",
   "metadata": {
    "tags": []
   },
   "outputs": [
    {
     "name": "stdout",
     "output_type": "stream",
     "text": [
      "['Bernd (short)', 'Luise (short)']\n",
      "['Martina (long)', 'Thorsten (long)', 'Franka (long)']\n"
     ]
    }
   ],
   "source": [
    "names = [\"Bernd\",\"Martina\",\"Thorsten\",\"Franka\",\"Luise\"]\n",
    "\n",
    "names_short = [x+\" (short)\" for x in names if len(x)<6]\n",
    "names_long = [x+\" (long)\" for x in names if len(x)>=6]\n",
    "print(names_short)\n",
    "print(names_long)"
   ]
  }
 ],
 "metadata": {
  "kernelspec": {
   "display_name": "Python 3 (ipykernel)",
   "language": "python",
   "name": "python3"
  },
  "language_info": {
   "codemirror_mode": {
    "name": "ipython",
    "version": 3
   },
   "file_extension": ".py",
   "mimetype": "text/x-python",
   "name": "python",
   "nbconvert_exporter": "python",
   "pygments_lexer": "ipython3",
   "version": "3.12.3"
  }
 },
 "nbformat": 4,
 "nbformat_minor": 5
}
