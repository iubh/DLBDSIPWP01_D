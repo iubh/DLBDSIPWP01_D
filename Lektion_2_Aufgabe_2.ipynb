{
 "cells": [
  {
   "cell_type": "markdown",
   "id": "bc81b2e9-dc26-4d4a-acda-52ccfab96383",
   "metadata": {
    "tags": []
   },
   "source": [
    "# Collections\n",
    "## Aufgabe\n",
    "\n",
    "Es geht um die Verwaltung der Studierenden im Python-Kurs: Speichere die (aktuell zwei unten gegebenen) Studierenden mit ihren Matrikelnummern, ihren Studiengängen und den aktuellen Semestern in einer Variablen. Wähle dazu geeignete Datentypen. Zeige beispielhaft auch den Zugriff auf den Studiengang der ersten Person.\n",
    "* 92901145, Applied AI, 1. Semester\n",
    "* 69343291, Cyber Security, 2. Semester\n",
    "* ..."
   ]
  },
  {
   "cell_type": "code",
   "execution_count": null,
   "id": "cf4d38d5-4b97-473a-9fd2-38a73f2c10cb",
   "metadata": {},
   "outputs": [],
   "source": []
  }
 ],
 "metadata": {
  "kernelspec": {
   "display_name": "Python 3 (ipykernel)",
   "language": "python",
   "name": "python3"
  },
  "language_info": {
   "codemirror_mode": {
    "name": "ipython",
    "version": 3
   },
   "file_extension": ".py",
   "mimetype": "text/x-python",
   "name": "python",
   "nbconvert_exporter": "python",
   "pygments_lexer": "ipython3",
   "version": "3.12.3"
  }
 },
 "nbformat": 4,
 "nbformat_minor": 5
}
