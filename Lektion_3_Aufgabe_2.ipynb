{
 "cells": [
  {
   "cell_type": "markdown",
   "id": "20453472-f84e-4f6b-a6a4-57f4dc5bcd14",
   "metadata": {},
   "source": [
    "# Schleifen, bedingte Anweisungen und Comprehensions\n",
    "## Aufgabe A (for-Schleife, if-Anweisung)\n",
    "Erzeuge eine Liste der Zahlen von 0 bis 10. Iteriere über diese Liste und füge die Quadrate der geraden Zahlen in ein Set ein. Gib das Set aus."
   ]
  },
  {
   "cell_type": "code",
   "execution_count": null,
   "id": "5333a345-79a4-42c9-afd7-aec5b039e24a",
   "metadata": {
    "tags": []
   },
   "outputs": [],
   "source": []
  },
  {
   "cell_type": "markdown",
   "id": "0587d74e-b357-472f-915d-7ce7dae602a5",
   "metadata": {},
   "source": [
    "## Aufgabe B (Comprehension)\n",
    "Löse Aufgabe A mittels einer Comprehension. Füge jedoch die geraden Zahlen selbst, nicht die Quadrate, in das Set ein."
   ]
  },
  {
   "cell_type": "code",
   "execution_count": null,
   "id": "c4f7dfa2-7d8a-4af4-9859-cb14c17d51ac",
   "metadata": {
    "tags": []
   },
   "outputs": [],
   "source": []
  },
  {
   "cell_type": "markdown",
   "id": "3015eb7e-5a56-4c5e-baec-44afafb5d091",
   "metadata": {},
   "source": [
    "## Aufgabe C (while-Schleife, if-Anweisung)\n",
    "Schreibe ein Programm, bei dem zwei Variablen a, b mittels einer Eingabeaufforderung mit Ganzzahlen initialisiert werden können. Erlaube die Eingabe so lange, bis sichergestellt ist, dass die Zahlen nicht gleich sind. Gib dann die größere Zahl aus."
   ]
  },
  {
   "cell_type": "code",
   "execution_count": null,
   "id": "416efb61-140c-41da-b934-ca6803c99073",
   "metadata": {
    "tags": []
   },
   "outputs": [],
   "source": []
  },
  {
   "cell_type": "markdown",
   "id": "1124316c-b82b-4ef0-950a-fa42946699c3",
   "metadata": {},
   "source": [
    "## Aufgabe D (Comprehension mit Strings)\n",
    "Gegeben sei eine Liste mit Vornamen. Verwende nun zwei List Comprehensions, um zwei weitere Listen zu erzeugen, eine mit allen Vornamen, die weniger als 6 Buchstaben enthalten, und eine mit allen Vornamen, die 6 oder mehr Buchstaben enthalten. Bei den kurzen Vornamen, hänge “ (short)” an, bei den langen, hänge “ (long)” an. Gib die Listen aus."
   ]
  },
  {
   "cell_type": "code",
   "execution_count": 14,
   "id": "bdbf5708-b887-4d41-8461-b186b3bddce1",
   "metadata": {},
   "outputs": [],
   "source": [
    "names = [\"Bernd\",\"Martina\",\"Thorsten\",\"Franka\",\"Luise\"]"
   ]
  },
  {
   "cell_type": "code",
   "execution_count": null,
   "id": "feb363dd-f7b8-4641-af05-dd7d7fa1ce99",
   "metadata": {},
   "outputs": [],
   "source": []
  }
 ],
 "metadata": {
  "kernelspec": {
   "display_name": "Python 3 (ipykernel)",
   "language": "python",
   "name": "python3"
  },
  "language_info": {
   "codemirror_mode": {
    "name": "ipython",
    "version": 3
   },
   "file_extension": ".py",
   "mimetype": "text/x-python",
   "name": "python",
   "nbconvert_exporter": "python",
   "pygments_lexer": "ipython3",
   "version": "3.12.3"
  }
 },
 "nbformat": 4,
 "nbformat_minor": 5
}
