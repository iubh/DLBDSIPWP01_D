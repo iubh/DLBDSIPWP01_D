{
 "cells": [
  {
   "cell_type": "markdown",
   "id": "413747d6-d21c-414c-9d16-b38414136828",
   "metadata": {
    "tags": []
   },
   "source": [
    "# Gültigkeitsbereich\n",
    "Überlege dir für die folgenden Code-Zellen, welche Ausgabe du erwartest und mit welcher Begründung. Führe die Zellen dann aus und überprüfe deine Annahmen.\n",
    "Die Inhalte der letzten Zellen gehen über das Skript des Kurses hinaus, sind aber für die Programmierpraxis relevant."
   ]
  },
  {
   "cell_type": "code",
   "execution_count": null,
   "id": "557cf6c8-9c64-4224-9e5b-1cd7ac6edb77",
   "metadata": {
    "tags": []
   },
   "outputs": [],
   "source": [
    "number = 5\n",
    "func()\n",
    "print(number)\n",
    "def func():\n",
    "    number = 10"
   ]
  },
  {
   "cell_type": "code",
   "execution_count": null,
   "id": "172c889b-3887-4f66-9da6-f2153e75cb5d",
   "metadata": {},
   "outputs": [],
   "source": [
    "del number # Dieser Aufruf sorgt hier dafür, dass das Beispiel funktioniert (wenn die vorherige Zelle ausgeführt wurde, ist number ansonsten schon initialisiert)\n",
    "\n",
    "def func():\n",
    "    number = 10\n",
    "func()\n",
    "print(number)"
   ]
  },
  {
   "cell_type": "code",
   "execution_count": null,
   "id": "0ffa1d2f-bfe5-46d4-bae7-a75ae05b09a1",
   "metadata": {},
   "outputs": [],
   "source": [
    "number = 5\n",
    "def func():\n",
    "    print(number)\n",
    "func()"
   ]
  },
  {
   "cell_type": "code",
   "execution_count": null,
   "id": "a9442e20-b343-4719-9e9c-2ce56f24899c",
   "metadata": {
    "tags": []
   },
   "outputs": [],
   "source": [
    "number = 5\n",
    "def func():\n",
    "    number = 10\n",
    "func()\n",
    "print(number)"
   ]
  },
  {
   "cell_type": "code",
   "execution_count": null,
   "id": "ed100ec2-64fc-49f4-af12-d5f2a2b90c65",
   "metadata": {
    "tags": []
   },
   "outputs": [],
   "source": [
    "number = 5\n",
    "def func():\n",
    "    global number\n",
    "    number = 10\n",
    "func()\n",
    "print(number)"
   ]
  },
  {
   "cell_type": "code",
   "execution_count": null,
   "id": "a6e75add-8cad-4628-892d-79ad2af8e6cb",
   "metadata": {
    "tags": []
   },
   "outputs": [],
   "source": [
    "number = 5\n",
    "def func():\n",
    "    number = 10\n",
    "    return number\n",
    "number = func()\n",
    "print(number)"
   ]
  },
  {
   "cell_type": "markdown",
   "id": "9b684e8e-42f7-4760-92fe-c99edb1ecf18",
   "metadata": {},
   "source": [
    "## Ab hier sind die Inhalte ergänzend zum Skript des Kurses: mutable und immutable Datentypen als Argumente"
   ]
  },
  {
   "cell_type": "code",
   "execution_count": null,
   "id": "47665ae8-d37d-48bc-b2d7-b03ecf5cc4b2",
   "metadata": {},
   "outputs": [],
   "source": [
    "number = 5\n",
    "def func(number):\n",
    "    number += 10\n",
    "func(number)\n",
    "print(number)"
   ]
  },
  {
   "cell_type": "code",
   "execution_count": null,
   "id": "915eda58-2f59-41ac-90f7-866b9c75723b",
   "metadata": {
    "tags": []
   },
   "outputs": [],
   "source": [
    "number_list = [5]\n",
    "def func(number_list):\n",
    "    number_list[0] = 10\n",
    "func(number_list)\n",
    "print(number_list)"
   ]
  },
  {
   "cell_type": "code",
   "execution_count": null,
   "id": "2af0d06c-978c-4583-bf10-bb8a171fe8f1",
   "metadata": {
    "tags": []
   },
   "outputs": [],
   "source": [
    "number_list = [5]\n",
    "number_list_copy = number_list\n",
    "def func(number_list):\n",
    "    number_list[0] = 10\n",
    "func(number_list_copy)\n",
    "print(number_list)"
   ]
  },
  {
   "cell_type": "code",
   "execution_count": null,
   "id": "6e4e8d7e-3489-421c-9f0a-8108e6db0e1d",
   "metadata": {
    "tags": []
   },
   "outputs": [],
   "source": [
    "import copy\n",
    "number_list = [5]\n",
    "number_list_copy = copy.copy(number_list)\n",
    "def func(number_list):\n",
    "    number_list[0] = 10\n",
    "func(number_list_copy)\n",
    "print(number_list)"
   ]
  },
  {
   "cell_type": "code",
   "execution_count": null,
   "id": "2367921a-358c-488f-9caa-7a3862df1ca4",
   "metadata": {},
   "outputs": [],
   "source": []
  }
 ],
 "metadata": {
  "kernelspec": {
   "display_name": "Python 3 (ipykernel)",
   "language": "python",
   "name": "python3"
  },
  "language_info": {
   "codemirror_mode": {
    "name": "ipython",
    "version": 3
   },
   "file_extension": ".py",
   "mimetype": "text/x-python",
   "name": "python",
   "nbconvert_exporter": "python",
   "pygments_lexer": "ipython3",
   "version": "3.12.3"
  }
 },
 "nbformat": 4,
 "nbformat_minor": 5
}
