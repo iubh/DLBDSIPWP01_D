{
 "cells": [
  {
   "cell_type": "markdown",
   "id": "44f81693-c850-4fc3-974e-d926c03ab289",
   "metadata": {},
   "source": [
    "# Lineare Regression\n",
    "## Anwendungsszenario: Vorhersage des Wohnungspreises basierend auf der Wohnfläche\n",
    "### Ein- und Ausgaben:\n",
    "- Feature: Fläche in Quadratmeter\n",
    "- Zielvariable: Preis in Euro\n",
    "\n",
    "### Datensatz für komplexere Modelle\n",
    "- https://www.kaggle.com/code/prasadperera/the-boston-housing-dataset\n",
    "\n",
    "Orientiere dich gerne an den entsprechenden Code-Beispielen im Skript (Lernzyklus 6.4) und schaue dir ggf. zusätzlich die Dokumentationen der jeweiligen Module an (z.B. zugreifbar über die JupyterLab Hilfe). Du kannst auch ein KI-Sprachmodell als Unterstützung verwenden. Dieses Programmierbeispiel geht allerdings deutlich über die Inhalte des Skripts hinaus."
   ]
  },
  {
   "cell_type": "code",
   "execution_count": null,
   "id": "4dd817c4-f7a9-4eaa-8014-d88a804025a3",
   "metadata": {},
   "outputs": [],
   "source": [
    "\n",
    "# Lies die Daten aus der CSV-Datei regression_housing.csv ein\n",
    "\n",
    "# Gib die ersten 10 Zeilen aus\n"
   ]
  },
  {
   "cell_type": "code",
   "execution_count": null,
   "id": "23b32a47-fe1e-42d4-b8c1-ddcff2fc7e79",
   "metadata": {},
   "outputs": [],
   "source": [
    "\n",
    "# Extrahiere aus dem DataFrame Objekt die Werte für Fläche und Preis in die Variablen \"area\" und \"price\" als NumPy-Arrays. \n",
    "# Der Zugriff kann über die Labels erfolgen.\n",
    "\n",
    "# area = # Wohnfläche -> unabhängige Variable\n",
    "# price = # Preis -> abhängige Variable\n"
   ]
  },
  {
   "cell_type": "code",
   "execution_count": null,
   "id": "ec49ac1f-3832-4f76-b100-106ca8e52197",
   "metadata": {},
   "outputs": [],
   "source": [
    "# Hier wird das lineare Regressionsmodell trainiert und evaluiert\n",
    "\n",
    "from sklearn.model_selection import train_test_split\n",
    "from sklearn.linear_model import LinearRegression\n",
    "from sklearn.metrics import mean_absolute_error\n",
    "\n",
    "# Teile den Datensatz in Trainings- und Testdaten auf\n",
    "X_train, X_test, y_train, y_test = train_test_split(area.reshape(-1, 1), price.reshape(-1, 1), test_size=0.2, random_state=42)\n",
    "\n",
    "# Trainiere ein lineares Regressionsmodell\n",
    "model = LinearRegression()\n",
    "model.fit(X_train, y_train)\n",
    "print(f\"y = {model.coef_[0]}*X+{model.intercept_}\")\n",
    "\n",
    "# Prädiziere die Preise für die Testdaten\n",
    "predictions = model.predict(X_test)\n",
    "\n",
    "# Berechne den mittleren Fehler\n",
    "mae = mean_absolute_error(y_test, predictions)\n",
    "print(f\"Mittlerer absoluter Fehler [Euro]: {mae:.2f}\")"
   ]
  },
  {
   "cell_type": "code",
   "execution_count": null,
   "id": "5027c902-4894-492e-a25b-c14a6cfc8358",
   "metadata": {},
   "outputs": [],
   "source": [
    "# Visualisierung\n",
    "\n",
    "# Plotte alle Datenpunkte\n",
    "\n",
    "# Plotte die Regressionslinie\n",
    "\n",
    "# Ergänze Beschriftungen\n"
   ]
  },
  {
   "cell_type": "code",
   "execution_count": null,
   "id": "25221387-ed19-40d6-8307-4352985048cb",
   "metadata": {},
   "outputs": [],
   "source": [
    "# Schreibe ein Programm, dass die Eingabe einer Wohnfläche anfragt und dann den dafür prädizierten Preis ausgibt\n"
   ]
  }
 ],
 "metadata": {
  "kernelspec": {
   "display_name": "Python 3 (ipykernel)",
   "language": "python",
   "name": "python3"
  },
  "language_info": {
   "codemirror_mode": {
    "name": "ipython",
    "version": 3
   },
   "file_extension": ".py",
   "mimetype": "text/x-python",
   "name": "python",
   "nbconvert_exporter": "python",
   "pygments_lexer": "ipython3",
   "version": "3.12.3"
  }
 },
 "nbformat": 4,
 "nbformat_minor": 5
}
