{
 "cells": [
  {
   "cell_type": "markdown",
   "id": "1313d3bd-0efc-49bb-9f3b-bef79670958e",
   "metadata": {},
   "source": [
    "# Das ist mein erstes Python-Programm"
   ]
  },
  {
   "cell_type": "code",
   "execution_count": 2,
   "id": "ebaba824-346c-4f4a-83c7-ef478c654c9a",
   "metadata": {},
   "outputs": [
    {
     "name": "stdout",
     "output_type": "stream",
     "text": [
      "Hallo Welt!\n"
     ]
    }
   ],
   "source": [
    "print(\"Hallo Welt!\")"
   ]
  },
  {
   "cell_type": "code",
   "execution_count": 1,
   "id": "08e7f674-5e71-4c01-b354-1265f885e5ad",
   "metadata": {},
   "outputs": [
    {
     "name": "stdout",
     "output_type": "stream",
     "text": [
      "Ich mag Python!\n"
     ]
    }
   ],
   "source": [
    "print(\"Ich mag Python!\")"
   ]
  },
  {
   "cell_type": "markdown",
   "id": "9b6020cc-3c00-4b39-b97f-1f1d8269fad7",
   "metadata": {},
   "source": [
    "![Image][1]\n",
    "\n",
    "[1]: https://www.python.org/static/community_logos/python-logo-master-v3-TM.png"
   ]
  },
  {
   "cell_type": "code",
   "execution_count": null,
   "id": "a85a41ce-613d-41c6-8dc2-ca2f4ca7a949",
   "metadata": {},
   "outputs": [],
   "source": []
  }
 ],
 "metadata": {
  "kernelspec": {
   "display_name": "Python 3 (ipykernel)",
   "language": "python",
   "name": "python3"
  },
  "language_info": {
   "codemirror_mode": {
    "name": "ipython",
    "version": 3
   },
   "file_extension": ".py",
   "mimetype": "text/x-python",
   "name": "python",
   "nbconvert_exporter": "python",
   "pygments_lexer": "ipython3",
   "version": "3.12.3"
  }
 },
 "nbformat": 4,
 "nbformat_minor": 5
}
