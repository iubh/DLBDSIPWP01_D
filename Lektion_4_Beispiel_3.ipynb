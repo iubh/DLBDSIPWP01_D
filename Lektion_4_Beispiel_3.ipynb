{
 "cells": [
  {
   "cell_type": "markdown",
   "id": "413747d6-d21c-414c-9d16-b38414136828",
   "metadata": {
    "tags": []
   },
   "source": [
    "# Gültigkeitsbereich, mutable und immutable Datentypen\n",
    "Überlege dir für die folgenden Code-Zellen, welche Ausgabe du erwartest und mit welcher Begründung. Führe die Zellen dann aus und überprüfe deine Annahmen.\n",
    "Die Inhalte der letzten drei Zellen gehen über das Skript des Kurses hinaus, sind aber für die Programmierpraxis relevant."
   ]
  },
  {
   "cell_type": "code",
   "execution_count": 1,
   "id": "557cf6c8-9c64-4224-9e5b-1cd7ac6edb77",
   "metadata": {
    "tags": []
   },
   "outputs": [
    {
     "ename": "NameError",
     "evalue": "name 'func' is not defined",
     "output_type": "error",
     "traceback": [
      "\u001b[1;31m---------------------------------------------------------------------------\u001b[0m",
      "\u001b[1;31mNameError\u001b[0m                                 Traceback (most recent call last)",
      "Cell \u001b[1;32mIn[1], line 2\u001b[0m\n\u001b[0;32m      1\u001b[0m number \u001b[38;5;241m=\u001b[39m \u001b[38;5;241m5\u001b[39m\n\u001b[1;32m----> 2\u001b[0m func()\n\u001b[0;32m      3\u001b[0m \u001b[38;5;28mprint\u001b[39m(number)\n\u001b[0;32m      4\u001b[0m \u001b[38;5;28;01mdef\u001b[39;00m \u001b[38;5;21mfunc\u001b[39m():\n",
      "\u001b[1;31mNameError\u001b[0m: name 'func' is not defined"
     ]
    }
   ],
   "source": [
    "number = 5\n",
    "func()\n",
    "print(number)\n",
    "def func():\n",
    "    number = 10"
   ]
  },
  {
   "cell_type": "markdown",
   "id": "dab2d181-bf6d-4fe5-811d-5957d9604b47",
   "metadata": {},
   "source": [
    "Begründung der Ausgabe: Der Funktionsname `func` ist in Zeile 2 noch nicht gültig, da die Funktion erst später definiert wird. Daher meldet der Interpreter einen Fehler. Diese Art des Fehlers (Ausnahme) wird in Lektion 5 näher beleuchtet.\n",
    "\n",
    "Beachte: Wenn du eine der folgenden Zellen mit korrekt positionierter Funktionsdefinition ausgeführt hast, dann wird der Fehler auch in dieser Zelle nicht mehr angezeigt, da dem Interpreter der Funktionsname dann bekannt ist. Um das \"Gedächtnis\" des Interpreters zu löschen, kannst du den Kernel neustarten (in Jupyter Lab über das Kernel-Menü)."
   ]
  },
  {
   "cell_type": "code",
   "execution_count": 2,
   "id": "a9442e20-b343-4719-9e9c-2ce56f24899c",
   "metadata": {
    "tags": []
   },
   "outputs": [
    {
     "name": "stdout",
     "output_type": "stream",
     "text": [
      "5\n"
     ]
    }
   ],
   "source": [
    "number = 5\n",
    "def func():\n",
    "    number = 10\n",
    "func()\n",
    "print(number)"
   ]
  },
  {
   "cell_type": "markdown",
   "id": "9207526f-3a14-42df-99db-68abe638bad9",
   "metadata": {
    "tags": []
   },
   "source": [
    "Begründung der Ausgabe: Innerhalb der Funktion wird eine lokale Variable `number` mit dem Wert `10` angelegt. Diese ist im Hauptprogramm nicht gültig. Dort ist nur die globale Variable `number` gültig, deren Wert unverändert bei `5` bleibt."
   ]
  },
  {
   "cell_type": "code",
   "execution_count": 3,
   "id": "ed100ec2-64fc-49f4-af12-d5f2a2b90c65",
   "metadata": {
    "tags": []
   },
   "outputs": [
    {
     "name": "stdout",
     "output_type": "stream",
     "text": [
      "10\n"
     ]
    }
   ],
   "source": [
    "number = 5\n",
    "def func():\n",
    "    global number\n",
    "    number = 10\n",
    "func()\n",
    "print(number)"
   ]
  },
  {
   "cell_type": "markdown",
   "id": "76c3efc3-0a0e-4817-b97c-07ea879413f7",
   "metadata": {},
   "source": [
    "Begründung der Ausgabe: Mit dem Schlüsselwort `global` wird innerhalb der Funktion explizit auf die globale Variable `number` zugegriffen, die dann auch verändert wird."
   ]
  },
  {
   "cell_type": "code",
   "execution_count": 7,
   "id": "09a4c83b-98dd-422d-be8c-44a95a4892a7",
   "metadata": {
    "tags": []
   },
   "outputs": [
    {
     "name": "stdout",
     "output_type": "stream",
     "text": [
      "5\n"
     ]
    }
   ],
   "source": [
    "number = 5\n",
    "def func(number):\n",
    "    number = 10\n",
    "func(number)\n",
    "print(number)"
   ]
  },
  {
   "cell_type": "markdown",
   "id": "3504a72b-932e-4785-a78e-0d3c73eeb970",
   "metadata": {
    "tags": []
   },
   "source": [
    "Begründung der Ausgabe: Die Funktion erhält den Wert der globalen Variablen `number` als Argument. Da `int` zu den immutable (unveränderlichen) Datentypen gehört, wird bei Veränderung des Wertes innerhalb der Funktion trotzdem eine lokale Kopie angelegt. Die globale Variable behält ihren Wert 5."
   ]
  },
  {
   "cell_type": "code",
   "execution_count": 4,
   "id": "a6e75add-8cad-4628-892d-79ad2af8e6cb",
   "metadata": {
    "tags": []
   },
   "outputs": [
    {
     "name": "stdout",
     "output_type": "stream",
     "text": [
      "10\n"
     ]
    }
   ],
   "source": [
    "number = 5\n",
    "def func(number):\n",
    "    number = 10\n",
    "    return number\n",
    "number = func(number)\n",
    "print(number)"
   ]
  },
  {
   "cell_type": "markdown",
   "id": "0c26cc56-bf37-420f-8c82-a1d3fec4b823",
   "metadata": {},
   "source": [
    "Begründung der Ausgabe: Die Funktion erhält den Wert der globalen Variablen `number` als Argument und liefert den Wert der lokalen Variablen `number` zurück. Dieser wird im Hauptprogramm an die globale Variable zugewiesen, die damit den Wert 10 erhält."
   ]
  },
  {
   "cell_type": "markdown",
   "id": "0ea238a3-514a-4417-9a6a-7bb2c5d54ef8",
   "metadata": {
    "tags": []
   },
   "source": [
    "## Ab hier sind die Inhalte ergänzend zum Skript des Kurses:"
   ]
  },
  {
   "cell_type": "code",
   "execution_count": 5,
   "id": "915eda58-2f59-41ac-90f7-866b9c75723b",
   "metadata": {
    "tags": []
   },
   "outputs": [
    {
     "name": "stdout",
     "output_type": "stream",
     "text": [
      "[10]\n"
     ]
    }
   ],
   "source": [
    "number_list = [5]\n",
    "def func(number_list):\n",
    "    number_list[0] = 10\n",
    "func(number_list)\n",
    "print(number_list)"
   ]
  },
  {
   "cell_type": "markdown",
   "id": "4d76ae58-41b2-4a27-a1c0-2e95d144b1b1",
   "metadata": {
    "tags": []
   },
   "source": [
    "Begründung der Ausgabe: Da `list` zu den mutable (veränderlichen) Datentypen gehört, wird auch innerhalb der Funktion direkt auf der als Argument übergebenen Liste gearbeitet. Es wird keine Kopie angelegt, wie bei den immutable Datentypen! D.h. hier wird auch innerhalb der Funktion die globale Variable verändert."
   ]
  },
  {
   "cell_type": "code",
   "execution_count": 11,
   "id": "2af0d06c-978c-4583-bf10-bb8a171fe8f1",
   "metadata": {
    "tags": []
   },
   "outputs": [
    {
     "name": "stdout",
     "output_type": "stream",
     "text": [
      "[10]\n"
     ]
    }
   ],
   "source": [
    "number_list = [5]\n",
    "number_list_copy = number_list\n",
    "def func(number_list):\n",
    "    number_list[0] = 10\n",
    "func(number_list_copy)\n",
    "print(number_list)"
   ]
  },
  {
   "cell_type": "markdown",
   "id": "85557923-e0ba-4f7b-b573-bb49b6c2c858",
   "metadata": {},
   "source": [
    "Begründung der Ausgabe: Hier wird (vermeintlich) die Variable `number_list` kopiert in `number_list_copy`. Mit `number_list_copy` wird dann die Funktion aufgerufen. Trotzdem ist der Wert in `number_list` geändert, da der Name `number_list_copy` auf dasselbe Objekt verweist wie `number_list`. Der Grund ist, dass `list` ein mutable (veränderlicher) Datentyp ist.\n",
    "Schaue dir gerne die Videos zu Lektion 4 an, in der diese Aspekte näher erklärt werden."
   ]
  },
  {
   "cell_type": "code",
   "execution_count": 9,
   "id": "6e4e8d7e-3489-421c-9f0a-8108e6db0e1d",
   "metadata": {
    "tags": []
   },
   "outputs": [
    {
     "name": "stdout",
     "output_type": "stream",
     "text": [
      "[5]\n"
     ]
    }
   ],
   "source": [
    "import copy\n",
    "number_list = [5]\n",
    "number_list_copy = copy.copy(number_list)\n",
    "def func(number_list):\n",
    "    number_list[0] = 10\n",
    "func(number_list_copy)\n",
    "print(number_list)"
   ]
  },
  {
   "cell_type": "markdown",
   "id": "f6385b90-1ef8-4357-8195-08750240e531",
   "metadata": {},
   "source": [
    "Begründung der Ausgabe: Mutable (veränderliche) Datentypen können mittels `copy` kopiert werden. In dem folgenden Beispiel ist `number_list_copy` eine echte Kopie, die unabhängig von `number_list` verändert werden kann."
   ]
  }
 ],
 "metadata": {
  "kernelspec": {
   "display_name": "Python 3 (ipykernel)",
   "language": "python",
   "name": "python3"
  },
  "language_info": {
   "codemirror_mode": {
    "name": "ipython",
    "version": 3
   },
   "file_extension": ".py",
   "mimetype": "text/x-python",
   "name": "python",
   "nbconvert_exporter": "python",
   "pygments_lexer": "ipython3",
   "version": "3.12.3"
  }
 },
 "nbformat": 4,
 "nbformat_minor": 5
}
