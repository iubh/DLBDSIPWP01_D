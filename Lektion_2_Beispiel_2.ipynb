{
 "cells": [
  {
   "cell_type": "markdown",
   "id": "bc81b2e9-dc26-4d4a-acda-52ccfab96383",
   "metadata": {
    "tags": []
   },
   "source": [
    "# Collections\n",
    "## Aufgabe\n",
    "\n",
    "Es geht um die Verwaltung der Studierenden im Python-Kurs: Speichere die (aktuell zwei unten gegebenen) Studierenden mit ihren Matrikelnummern, ihren Studiengängen und den aktuellen Semestern in einer Variablen. Wähle dazu geeignete Datentypen. Zeige beispielhaft auch den Zugriff auf den Studiengang der ersten Person.\n",
    "* 92901145, Applied AI, 1. Semester\n",
    "* 69343291, Cyber Security, 2. Semester\n",
    "* ..."
   ]
  },
  {
   "cell_type": "markdown",
   "id": "9f22be90-ebe8-404e-8608-10bd3161d6f0",
   "metadata": {
    "tags": []
   },
   "source": [
    "## Beispiellösung\n",
    "Zunächst ein Dictionary pro Person"
   ]
  },
  {
   "cell_type": "code",
   "execution_count": 11,
   "id": "77e71bbb-290d-4113-8664-b57b114b9b64",
   "metadata": {},
   "outputs": [],
   "source": [
    "student_1 = {\"Matrikelnummer\":\"92901145\", \"Studiengang\":\"Applied AI\", \"Semester\":1}\n",
    "student_2 = {\"Matrikelnummer\":\"69343291\", \"Studiengang\":\"Cyber Security\", \"Semester\":2}"
   ]
  },
  {
   "cell_type": "markdown",
   "id": "209b2e23-b6aa-4890-8090-8207f62d11f3",
   "metadata": {},
   "source": [
    "### Variante 1\n",
    "Um den Kurs in einer Variablen zu speichern, kann eine Liste von Dictionaries erstellt werden. Der Zugriff auf den Studiengang der ersten Person kann dann über den Index erfolgen."
   ]
  },
  {
   "cell_type": "code",
   "execution_count": 13,
   "id": "f4fbc4c9-de86-481e-bbda-def9dc06a994",
   "metadata": {},
   "outputs": [
    {
     "name": "stdout",
     "output_type": "stream",
     "text": [
      "[{'Matrikelnummer': '92901145', 'Studiengang': 'Applied AI', 'Semester': 1}, {'Matrikelnummer': '69343291', 'Studiengang': 'Cyber Security', 'Semester': 2}]\n",
      "Applied AI\n"
     ]
    }
   ],
   "source": [
    "python_course_list = [student_1, student_2]\n",
    "print(python_course_list)\n",
    "# Zugriff auf den Studiengang der ersten Person\n",
    "print(python_course_list[0][\"Studiengang\"])\n",
    "# Alternativ mit der get-Methode (Achtung: unterschiedliches Verhalten bei nicht vorhandenen Schlüsseln)\n",
    "# print(python_course_list[0].get(\"Studiengang\"))"
   ]
  },
  {
   "cell_type": "markdown",
   "id": "50720c5e-9ac1-4910-a9a1-282150a0d65a",
   "metadata": {},
   "source": [
    "### Variante 2\n",
    "Alternativ kann ein Dictionary von Dictionaries angelegt werden, mit den Matrikelnummern als Schlüssel, da diese eindeutig sind. Da die Matrikelnummer dann doppelt gespeichert wird, könnte diese aus den Dictionaries für die Personen entfernt werden. Der Zugriff erfolgt dann über den Schlüssel."
   ]
  },
  {
   "cell_type": "code",
   "execution_count": 15,
   "id": "90da9895-7ebb-424d-82ea-da8413550ef4",
   "metadata": {},
   "outputs": [
    {
     "name": "stdout",
     "output_type": "stream",
     "text": [
      "{'92901145': {'Matrikelnummer': '92901145', 'Studiengang': 'Applied AI', 'Semester': 1}, '69343291': {'Matrikelnummer': '69343291', 'Studiengang': 'Cyber Security', 'Semester': 2}}\n",
      "Applied AI\n"
     ]
    }
   ],
   "source": [
    "python_course_dic = {\"92901145\":student_1, \"69343291\":student_2}\n",
    "print(python_course_dic)\n",
    "print(python_course_dic[\"92901145\"][\"Studiengang\"])\n",
    "# Alternativ mit der get-Methode (Achtung: unterschiedliches Verhalten bei nicht vorhandenen Schlüsseln)\n",
    "# print(python_course_dic.get(\"92901145\").get(\"Studiengang\"))"
   ]
  },
  {
   "cell_type": "code",
   "execution_count": null,
   "id": "ef8a32ff-cc63-44a7-b6f5-d27947397d56",
   "metadata": {},
   "outputs": [],
   "source": []
  }
 ],
 "metadata": {
  "kernelspec": {
   "display_name": "Python 3 (ipykernel)",
   "language": "python",
   "name": "python3"
  },
  "language_info": {
   "codemirror_mode": {
    "name": "ipython",
    "version": 3
   },
   "file_extension": ".py",
   "mimetype": "text/x-python",
   "name": "python",
   "nbconvert_exporter": "python",
   "pygments_lexer": "ipython3",
   "version": "3.12.3"
  }
 },
 "nbformat": 4,
 "nbformat_minor": 5
}
