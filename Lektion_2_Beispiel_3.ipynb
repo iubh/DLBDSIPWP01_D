{
 "cells": [
  {
   "cell_type": "markdown",
   "id": "cf5e9ce3-cc6d-48e5-8307-462d90474a27",
   "metadata": {
    "tags": []
   },
   "source": [
    "# Dateien\n",
    "## Aufgabe\n",
    "\n",
    "Lies die Studierenden-Daten aus der Datei Lektion_2_Studierende.txt ein und gib sie aus. Füge deine eigenen Daten ans Ende der Datei hinzu."
   ]
  },
  {
   "cell_type": "markdown",
   "id": "f431b8be-8a22-4387-bd58-adf226e599df",
   "metadata": {
    "tags": []
   },
   "source": [
    "## Beispiellösung"
   ]
  },
  {
   "cell_type": "code",
   "execution_count": null,
   "id": "6ce88bf8-b987-4322-90a4-3c457100a639",
   "metadata": {},
   "outputs": [],
   "source": [
    "filename = \"Lektion_2_Studierende.txt\""
   ]
  },
  {
   "cell_type": "markdown",
   "id": "1c796864-3a2f-4368-ba92-03277a3096e9",
   "metadata": {
    "tags": []
   },
   "source": [
    "### Variante 1\n",
    "Traditionelle Implementierung (die Datei wird explizit geschlossen)"
   ]
  },
  {
   "cell_type": "code",
   "execution_count": null,
   "id": "7175a127-c5bf-43db-b267-7f0b9a8ad86f",
   "metadata": {
    "tags": []
   },
   "outputs": [],
   "source": [
    "file = open(filename,\"r\")\n",
    "print(file.read())\n",
    "file.close()\n",
    "file = open(filename, \"a\")\n",
    "file.write(\"\\n12345678, Robotik, 1\")\n",
    "file.close()"
   ]
  },
  {
   "cell_type": "markdown",
   "id": "83e26ddb-7cda-4a37-834a-160437fd7a86",
   "metadata": {
    "tags": []
   },
   "source": [
    "### Variante 2\n",
    "Verwendung des with-Statements, siehe z.B. [https://docs.python.org/3/whatsnew/2.5.html#pep-343-the-with-statement]"
   ]
  },
  {
   "cell_type": "code",
   "execution_count": null,
   "id": "1515e061-e58f-4624-978a-f353a55b0d43",
   "metadata": {},
   "outputs": [],
   "source": [
    "with open(filename,\"r\") as file:\n",
    "    print(file.read())\n",
    "with open(filename,\"a\") as file:\n",
    "    file.write(\"\\n12345678, Robotik, 1\")"
   ]
  },
  {
   "cell_type": "markdown",
   "id": "7b3e2554-9f67-4336-9f9a-754f3321d356",
   "metadata": {},
   "source": [
    "### Variante 3\n",
    "Du kannst eine Datei auch zum gleichzeitigen Lesen und Schreiben öffnen"
   ]
  },
  {
   "cell_type": "code",
   "execution_count": null,
   "id": "a74fe1b9-0a74-4394-a9aa-0b96e7165a48",
   "metadata": {},
   "outputs": [],
   "source": [
    "with open(filename,\"r+\") as file:\n",
    "    print(file.read())\n",
    "    file.write(\"\\n12345678, Robotik, 1\")"
   ]
  },
  {
   "cell_type": "code",
   "execution_count": null,
   "id": "fdd5cc1b-b777-4a0b-b7e9-914db25fefb9",
   "metadata": {},
   "outputs": [],
   "source": []
  }
 ],
 "metadata": {
  "kernelspec": {
   "display_name": "Python 3 (ipykernel)",
   "language": "python",
   "name": "python3"
  },
  "language_info": {
   "codemirror_mode": {
    "name": "ipython",
    "version": 3
   },
   "file_extension": ".py",
   "mimetype": "text/x-python",
   "name": "python",
   "nbconvert_exporter": "python",
   "pygments_lexer": "ipython3",
   "version": "3.12.3"
  }
 },
 "nbformat": 4,
 "nbformat_minor": 5
}
