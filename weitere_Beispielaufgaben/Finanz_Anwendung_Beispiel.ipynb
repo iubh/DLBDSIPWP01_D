{
 "cells": [
  {
   "cell_type": "markdown",
   "id": "b4be8fd1-2e06-4c88-b4ae-956b0eb73f0a",
   "metadata": {},
   "source": [
    "## Aufgabe 1: Einfache Finanz-Anwendung\n",
    "### Teil 1: Berechnung des Kapitals inklusive der Zinseszinsen\n",
    "Schreibe und teste eine Funktion, die den Endbetrag nach einer bestimmten Anzahl von Jahren bei gegebenem Anfangskapital, Zinssatz und Jahren berechnet."
   ]
  },
  {
   "cell_type": "code",
   "execution_count": 8,
   "id": "ebb5f34f-3d77-4db2-89f0-0124670a84fe",
   "metadata": {},
   "outputs": [
    {
     "name": "stdout",
     "output_type": "stream",
     "text": [
      "Final amount after 10 years: 1628.89 Euros\n"
     ]
    }
   ],
   "source": [
    "def calculate_amount(starting_capital, rate, years):\n",
    "    \"\"\"\n",
    "    Calculates the final amount of an initial capital after a certain number \n",
    "    of years at a given interest rate.\n",
    "\n",
    "    Parameters:\n",
    "    starting_capital (float): The initial capital that is invested.\n",
    "    rate (float): The annual interest rate in percent.\n",
    "    years (int): The number of years the capital is invested for.\n",
    "\n",
    "    Returns:\n",
    "    float: The calculated final amount after the specified number of years.\n",
    "    \"\"\"\n",
    "    return starting_capital * (1 + rate / 100) ** years\n",
    "\n",
    "# Test\n",
    "starting_capital = 1000  # Euros\n",
    "interest_rate = 5  # Percent\n",
    "years = 10\n",
    "\n",
    "final_amount = calculate_amount(starting_capital, interest_rate, years)\n",
    "print(f\"Final amount after {years} years: {final_amount:.2f} Euros\")"
   ]
  },
  {
   "cell_type": "markdown",
   "id": "cf4a81f1-1fc4-46ff-9fb9-48baf8068f2d",
   "metadata": {},
   "source": [
    "### Teil 2: Berücksichtigung monatlicher Einzahlungen\n",
    "Modifiziere das Programm, um monatliche Einzahlungen zu berücksichtigen."
   ]
  },
  {
   "cell_type": "code",
   "execution_count": 15,
   "id": "86566380-73f1-4a85-a826-531ee7ae6d25",
   "metadata": {},
   "outputs": [
    {
     "name": "stdout",
     "output_type": "stream",
     "text": [
      "Final amount after 10 years with monthly deposit of 100 Euros: 17175.24 Euros\n"
     ]
    }
   ],
   "source": [
    "def calculate_amount_with_monthly_savings(starting_capital, monthly_deposit, rate, years):\n",
    "    \"\"\"\n",
    "    Calculates the final amount of an initial capital after a certain number \n",
    "    of years at a given interest rate with regular monthly deposits.\n",
    "\n",
    "    This function accounts for compound interest, which is applied monthly \n",
    "    to the capital along with monthly deposits.\n",
    "\n",
    "    Parameters:\n",
    "    starting_capital (float): The initial capital that is invested.\n",
    "    monthly_deposit (float): The amount deposited additionally each month.\n",
    "    rate (float): The annual interest rate in percent.\n",
    "    years (int): The number of years the capital is invested for.\n",
    "\n",
    "    Returns:\n",
    "    float: The calculated final amount after the specified number of years.\n",
    "    \"\"\"\n",
    "    total = starting_capital\n",
    "    # The underscore (_) is a placeholder for the loop variable, which can be used,\n",
    "    # if the loop variable is not needed, i.e. not used within the loop body.\n",
    "    for _ in range(years * 12):\n",
    "        total = total * (1 + rate / 100 / 12) + monthly_deposit\n",
    "    return total\n",
    "\n",
    "# Test\n",
    "starting_capital = 1000  # Euros\n",
    "interest_rate = 5  # Percent\n",
    "years = 10\n",
    "monthly_deposit = 100\n",
    "\n",
    "final_amount = calculate_amount_with_monthly_savings(starting_capital, monthly_deposit, interest_rate, years)\n",
    "print(f\"Final amount after {years} years with monthly deposit of {monthly_deposit} Euros: {final_amount:.2f} Euros\")"
   ]
  },
  {
   "cell_type": "markdown",
   "id": "160bc2c8-b70f-46bb-9250-03a5d63a2342",
   "metadata": {},
   "source": [
    "### Teil 3: Benutzungsinteraktion\n",
    "Lasse den Benutzer oder die Benutzerin das Anfangskapital, den Zinssatz, die Jahre und die monatliche Einzahlung eingeben."
   ]
  },
  {
   "cell_type": "code",
   "execution_count": 23,
   "id": "e1fa7fa1-6beb-45ea-95e1-0de4063d96ab",
   "metadata": {},
   "outputs": [
    {
     "name": "stdin",
     "output_type": "stream",
     "text": [
      "Enter the starting capital:  500\n",
      "Enter the monthly deposit:  ..\n"
     ]
    },
    {
     "name": "stdout",
     "output_type": "stream",
     "text": [
      "Invalid input! Please ensure you enter suitable numeric values. Use a . (dot) for floating point numbers.\n"
     ]
    }
   ],
   "source": [
    "# Could be broken up in several try blocks to be more specific with the error messages\n",
    "# Does not check for plausible inputs\n",
    "try:\n",
    "    starting_capital = float(input(\"Enter the starting capital: \"))\n",
    "    monthly_deposit = float(input(\"Enter the monthly deposit: \"))\n",
    "    interest_rate = float(input(\"Enter the interest rate in percent: \"))\n",
    "    years = int(input(\"Enter the number of years: \"))\n",
    "except ValueError:\n",
    "    print(\"Invalid input! Please ensure you enter suitable numeric values. Use a . (dot) for floating point numbers.\")\n",
    "    # You might choose to re-prompt the user here or set default values\n",
    "else:\n",
    "    final_amount = calculate_amount_with_monthly_savings(starting_capital, monthly_deposit, interest_rate, years)\n",
    "    print(f\"Final amount after {years} years with monthly deposit of {monthly_deposit} Euros: {final_amount:.2f} Euros\")"
   ]
  },
  {
   "cell_type": "code",
   "execution_count": null,
   "id": "21381e43-c43d-455f-955c-ae7b153516ff",
   "metadata": {},
   "outputs": [],
   "source": []
  }
 ],
 "metadata": {
  "kernelspec": {
   "display_name": "Python 3 (ipykernel)",
   "language": "python",
   "name": "python3"
  },
  "language_info": {
   "codemirror_mode": {
    "name": "ipython",
    "version": 3
   },
   "file_extension": ".py",
   "mimetype": "text/x-python",
   "name": "python",
   "nbconvert_exporter": "python",
   "pygments_lexer": "ipython3",
   "version": "3.12.3"
  }
 },
 "nbformat": 4,
 "nbformat_minor": 5
}
