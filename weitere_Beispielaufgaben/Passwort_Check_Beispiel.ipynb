{
 "cells": [
  {
   "cell_type": "markdown",
   "id": "adc30498-6dfc-4a04-810b-e9c63d219045",
   "metadata": {},
   "source": [
    "## Aufgabe 2: Einfacher Passwort-Check\n",
    "### Teil 1: Passwort-Komplexität prüfen\n",
    "Schreibe und teste eine Funktion, die überprüft, ob ein Passwort mindestens acht Zeichen lang ist und sowohl Buchstaben als auch Zahlen enthält.\n",
    "\n",
    "**Hinweise:** Du kannst mit `for <Zeichen> in <Zeichenkette>` über jedes Zeichen eines Strings iterieren und dieses einzeln überprüfen. Weiterhin kannst du [hier](https://docs.python.org/3/library/stdtypes.html#string-methods) nach geeigneten String-Methoden suchen, um die Zeichenart zu bestimmen."
   ]
  },
  {
   "cell_type": "code",
   "execution_count": 6,
   "id": "7016ee61-b521-4d01-a208-dbfd2636d31e",
   "metadata": {},
   "outputs": [
    {
     "name": "stdout",
     "output_type": "stream",
     "text": [
      "The password is ok\n"
     ]
    }
   ],
   "source": [
    "def password_check(password):\n",
    "    has_digit = False\n",
    "    has_alpha = False\n",
    "    for char in password:\n",
    "        # Überprüft, ob es sich um eine Zahl handelt\n",
    "        if char.isdigit():\n",
    "            has_digit = True\n",
    "        # Überprüft, ob es sich um einen Buchstaben handelt\n",
    "        if char.isalpha():\n",
    "            has_alpha = True\n",
    "    return len(password) >= 8 and has_digit and has_alpha\n",
    "\n",
    "password = \"Password123\"\n",
    "if password_check(password) == True:\n",
    "    print(\"The password is ok\")\n",
    "else:\n",
    "    print(\"The password is not ok\")"
   ]
  },
  {
   "cell_type": "markdown",
   "id": "9aea2fe5-8563-4d00-b661-1934253a876b",
   "metadata": {},
   "source": [
    "## Teil 2: Feedback zum Passwort\n",
    "Erweitere die Funktion so, dass sie direktes Feedback dazu gibt, welche Kriterien nicht erfüllt sind.\n",
    "Erstelle eine Passwortliste und teste die Funktion."
   ]
  },
  {
   "cell_type": "code",
   "execution_count": 17,
   "id": "bdd7618d-99d7-4489-8a18-95c80c62d155",
   "metadata": {},
   "outputs": [
    {
     "name": "stdout",
     "output_type": "stream",
     "text": [
      "Password check for: 123456\n",
      "The password is too short.\n",
      "The password needs at least one letter.\n",
      "\n",
      "Password check for: Password123\n",
      "The password is ok.\n",
      "\n",
      "Password check for: abc\n",
      "The password is too short.\n",
      "The password needs at least one number.\n",
      "\n",
      "Password check for: 123abc456\n",
      "The password is ok.\n",
      "\n",
      "Password check for: StrongPW99\n",
      "The password is ok.\n",
      "\n"
     ]
    }
   ],
   "source": [
    "def password_feedback(password):\n",
    "    has_len = True\n",
    "    has_digit = False\n",
    "    has_alpha = False\n",
    "    if len(password) < 8:\n",
    "        print(\"The password is too short.\")\n",
    "        has_len = False\n",
    "    for char in password:\n",
    "        if char.isdigit():\n",
    "            has_digit = True\n",
    "        if char.isalpha():\n",
    "            has_alpha = True\n",
    "    if not has_digit:\n",
    "        print(\"The password needs at least one number.\")\n",
    "    if not has_alpha:\n",
    "        print(\"The password needs at least one letter.\")\n",
    "    if has_len and has_digit and has_alpha:\n",
    "        print(\"The password is ok.\")\n",
    "\n",
    "passwords = [\"123456\", \"Password123\", \"abc\", \"123abc456\", \"StrongPW99\"]\n",
    "    \n",
    "for pw in passwords:\n",
    "    print(f\"Password check for: {pw}\")\n",
    "    password_feedback(pw)\n",
    "    print() # Um einen Zeilenumbruch einzufügen"
   ]
  },
  {
   "cell_type": "markdown",
   "id": "ec7ee073-41fb-4f9b-86ee-acb658f723c6",
   "metadata": {},
   "source": [
    "## Aufgabe 3: Einfache Datenanalyse\n",
    "### Teil 1: Datenimport\n",
    "\n",
    "Die Textdatei `imu_data` enthält Sensormessungen nach folgendem Format: `<Zeitstempel in Sekunden> <LAccelerometer_x> <LAccelerometer_y> <LAccelerometer_z> <LGyroskop_x> <LGyroskop_y> <LGyroskop_z> <LMagnetometer_x> <LMagnetometer_y> <LMagnetometer_z> <RAccelerometer_x> <RAccelerometer_y> <RAccelerometer_z> <RGyroskop_x> <RGyroskop_y> <RGyroskop_z> <RMagnetometer_x> <RMagnetometer_y> <RMagnetometer_z>`. `L` steht dabei für den linken Fuß, `R` für den rechten. Dies meint den Ort, an dem die Sensoren jeweils angebracht waren. \n",
    "\n",
    "Lies die Datei in eine geeignete Datenstruktur ein. Gib zur Überprüfung die erste Zeile und die Dimension (Anzahl Zeilen und Spalten aus).\n",
    "\n",
    "**Anmerkungen:** Die Person ist während der Datenaufnahme gegangen. Accelerometer messen Linearbeschleunigungen, Gyroskope messen Winkelgeschwindigkeiten, Magnetometer messen Magnetfelder."
   ]
  },
  {
   "cell_type": "code",
   "execution_count": 73,
   "id": "54b6cc29-b806-49fc-9222-4c7ce657731f",
   "metadata": {},
   "outputs": [
    {
     "name": "stdout",
     "output_type": "stream",
     "text": [
      "Erste Zeile:\n",
      "[ 0.00000e+00  5.22969e+00 -4.72085e+00  7.03979e+00  1.43347e-02\n",
      "  2.26721e-02  1.99680e-02 -7.89307e-01  5.70313e-01 -3.81592e-01\n",
      " -3.41607e+00 -5.00091e+00  7.69099e+00  8.71080e-04  3.54919e-03\n",
      "  2.52092e-03 -4.68750e-02  3.69873e-01 -9.41162e-01]\n",
      "Dimension: (21999, 19)\n"
     ]
    }
   ],
   "source": [
    "import numpy as np\n",
    "\n",
    "# Einlesen der Daten\n",
    "# Da die Daten durch Leerzeichen getrennt sind, ist der Standard-Delimiter ' ' passend\n",
    "data = np.loadtxt(\"imu_data\")\n",
    "\n",
    "# Überprüfen der eingelesenen Daten\n",
    "print(\"Erste Zeile:\")\n",
    "print(data[0,:])\n",
    "print(f\"Dimension: {data.shape}\")"
   ]
  },
  {
   "cell_type": "markdown",
   "id": "5e623f20-f56f-495f-b0ad-43d3f8572113",
   "metadata": {},
   "source": [
    "### Teil 2: Datenausfälle prüfen\n",
    "Die Daten wurden mit 60 Hz erhoben. Prüfe quantitativ und qualitativ, ob es Datenausfälle gab.\n",
    "\n",
    "**Hinweise:** Berechne jeweils die Differenz zum Vorgänger-Sample und schaue dir Minimum, Maximum und Mittelwert der Differenzen an. Zur qualitativen Prüfung kannst du die Differenzen plotten."
   ]
  },
  {
   "cell_type": "code",
   "execution_count": 97,
   "id": "ae708d73-a231-44ee-a9e7-a27274e1a1b4",
   "metadata": {},
   "outputs": [
    {
     "name": "stdout",
     "output_type": "stream",
     "text": [
      "Max: 0.020000000000038654, Mean: 0.016666242385671427, Min: 0.012999999999976808\n"
     ]
    },
    {
     "data": {
      "text/plain": [
       "[<matplotlib.lines.Line2D at 0x1d780d35d30>]"
      ]
     },
     "execution_count": 97,
     "metadata": {},
     "output_type": "execute_result"
    },
    {
     "data": {
      "image/png": "[encoded data removed]",
      "text/plain": [
       "<Figure size 640x480 with 1 Axes>"
      ]
     },
     "metadata": {},
     "output_type": "display_data"
    }
   ],
   "source": [
    "from matplotlib import pyplot\n",
    "\n",
    "diffs = np.diff(data[:,0])\n",
    "max_diff = np.max(diffs)\n",
    "min_diff = np.min(diffs)\n",
    "mean_diff = np.mean(diffs)\n",
    "print(f\"Max: {max_diff}, Mean: {mean_diff}, Min: {min_diff}\")\n",
    "\n",
    "pyplot.plot(diffs)"
   ]
  }
 ],
 "metadata": {
  "kernelspec": {
   "display_name": "Python 3 (ipykernel)",
   "language": "python",
   "name": "python3"
  },
  "language_info": {
   "codemirror_mode": {
    "name": "ipython",
    "version": 3
   },
   "file_extension": ".py",
   "mimetype": "text/x-python",
   "name": "python",
   "nbconvert_exporter": "python",
   "pygments_lexer": "ipython3",
   "version": "3.12.3"
  }
 },
 "nbformat": 4,
 "nbformat_minor": 5
}
