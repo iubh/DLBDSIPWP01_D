{
 "cells": [
  {
   "cell_type": "markdown",
   "id": "adc30498-6dfc-4a04-810b-e9c63d219045",
   "metadata": {},
   "source": [
    "## Aufgabe 2: Einfacher Passwort-Check\n",
    "### Teil 1: Passwort-Komplexität prüfen\n",
    "Schreibe und teste eine Funktion, die überprüft, ob ein Passwort mindestens acht Zeichen lang ist und sowohl Buchstaben als auch Zahlen enthält.\n",
    "\n",
    "**Hinweise:** Du kannst mit `for <Zeichen> in <Zeichenkette>` über jedes Zeichen eines Strings iterieren und dieses einzeln überprüfen. Weiterhin kannst du [hier](https://docs.python.org/3/library/stdtypes.html#string-methods) nach geeigneten String-Methoden suchen, um die Zeichenart zu bestimmen."
   ]
  },
  {
   "cell_type": "code",
   "execution_count": 6,
   "id": "7016ee61-b521-4d01-a208-dbfd2636d31e",
   "metadata": {},
   "outputs": [
    {
     "name": "stdout",
     "output_type": "stream",
     "text": [
      "The password is ok\n"
     ]
    }
   ],
   "source": [
    "def password_check(password):\n",
    "    has_digit = False\n",
    "    has_alpha = False\n",
    "    for char in password:\n",
    "        # Überprüft, ob es sich um eine Zahl handelt\n",
    "        if char.isdigit():\n",
    "            has_digit = True\n",
    "        # Überprüft, ob es sich um einen Buchstaben handelt\n",
    "        if char.isalpha():\n",
    "            has_alpha = True\n",
    "    return len(password) >= 8 and has_digit and has_alpha\n",
    "\n",
    "password = \"Password123\"\n",
    "if password_check(password) == True:\n",
    "    print(\"The password is ok\")\n",
    "else:\n",
    "    print(\"The password is not ok\")"
   ]
  },
  {
   "cell_type": "markdown",
   "id": "9aea2fe5-8563-4d00-b661-1934253a876b",
   "metadata": {},
   "source": [
    "## Teil 2: Feedback zum Passwort\n",
    "Erweitere die Funktion so, dass sie direktes Feedback dazu gibt, welche Kriterien nicht erfüllt sind.\n",
    "Erstelle eine Passwortliste und teste die Funktion."
   ]
  },
  {
   "cell_type": "code",
   "execution_count": 17,
   "id": "bdd7618d-99d7-4489-8a18-95c80c62d155",
   "metadata": {},
   "outputs": [
    {
     "name": "stdout",
     "output_type": "stream",
     "text": [
      "Password check for: 123456\n",
      "The password is too short.\n",
      "The password needs at least one letter.\n",
      "\n",
      "Password check for: Password123\n",
      "The password is ok.\n",
      "\n",
      "Password check for: abc\n",
      "The password is too short.\n",
      "The password needs at least one number.\n",
      "\n",
      "Password check for: 123abc456\n",
      "The password is ok.\n",
      "\n",
      "Password check for: StrongPW99\n",
      "The password is ok.\n",
      "\n"
     ]
    }
   ],
   "source": [
    "def password_feedback(password):\n",
    "    has_len = True\n",
    "    has_digit = False\n",
    "    has_alpha = False\n",
    "    if len(password) < 8:\n",
    "        print(\"The password is too short.\")\n",
    "        has_len = False\n",
    "    for char in password:\n",
    "        if char.isdigit():\n",
    "            has_digit = True\n",
    "        if char.isalpha():\n",
    "            has_alpha = True\n",
    "    if not has_digit:\n",
    "        print(\"The password needs at least one number.\")\n",
    "    if not has_alpha:\n",
    "        print(\"The password needs at least one letter.\")\n",
    "    if has_len and has_digit and has_alpha:\n",
    "        print(\"The password is ok.\")\n",
    "\n",
    "passwords = [\"123456\", \"Password123\", \"abc\", \"123abc456\", \"StrongPW99\"]\n",
    "    \n",
    "for pw in passwords:\n",
    "    print(f\"Password check for: {pw}\")\n",
    "    password_feedback(pw)\n",
    "    print() # Um einen Zeilenumbruch einzufügen"
   ]
  }
 ],
 "metadata": {
  "kernelspec": {
   "display_name": "Python 3 (ipykernel)",
   "language": "python",
   "name": "python3"
  },
  "language_info": {
   "codemirror_mode": {
    "name": "ipython",
    "version": 3
   },
   "file_extension": ".py",
   "mimetype": "text/x-python",
   "name": "python",
   "nbconvert_exporter": "python",
   "pygments_lexer": "ipython3",
   "version": "3.12.3"
  }
 },
 "nbformat": 4,
 "nbformat_minor": 5
}
