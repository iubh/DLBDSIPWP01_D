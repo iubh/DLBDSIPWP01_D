{
 "cells": [
  {
   "cell_type": "markdown",
   "id": "adc30498-6dfc-4a04-810b-e9c63d219045",
   "metadata": {},
   "source": [
    "## Aufgabe 2: Einfacher Passwort-Check\n",
    "### Teil 1: Passwort-Komplexität prüfen\n",
    "Schreibe und teste eine Funktion, die überprüft, ob ein Passwort mindestens acht Zeichen lang ist und sowohl Buchstaben als auch Zahlen enthält.\n",
    "\n",
    "**Hinweise:** Du kannst mit `for <Zeichen> in <Zeichenkette>` über jedes Zeichen eines Strings iterieren und dieses einzeln überprüfen. Weiterhin kannst du [hier](https://docs.python.org/3/library/stdtypes.html#string-methods) nach geeigneten String-Methoden suchen, um die Zeichenart zu bestimmen."
   ]
  },
  {
   "cell_type": "code",
   "execution_count": null,
   "id": "7016ee61-b521-4d01-a208-dbfd2636d31e",
   "metadata": {},
   "outputs": [],
   "source": []
  },
  {
   "cell_type": "markdown",
   "id": "9aea2fe5-8563-4d00-b661-1934253a876b",
   "metadata": {},
   "source": [
    "## Teil 2: Feedback zum Passwort\n",
    "Erweitere die Funktion so, dass sie direktes Feedback dazu gibt, welche Kriterien nicht erfüllt sind.\n",
    "Erstelle eine Passwortliste und teste die Funktion."
   ]
  },
  {
   "cell_type": "code",
   "execution_count": null,
   "id": "bdd7618d-99d7-4489-8a18-95c80c62d155",
   "metadata": {},
   "outputs": [],
   "source": []
  }
 ],
 "metadata": {
  "kernelspec": {
   "display_name": "Python 3 (ipykernel)",
   "language": "python",
   "name": "python3"
  },
  "language_info": {
   "codemirror_mode": {
    "name": "ipython",
    "version": 3
   },
   "file_extension": ".py",
   "mimetype": "text/x-python",
   "name": "python",
   "nbconvert_exporter": "python",
   "pygments_lexer": "ipython3",
   "version": "3.12.3"
  }
 },
 "nbformat": 4,
 "nbformat_minor": 5
}
