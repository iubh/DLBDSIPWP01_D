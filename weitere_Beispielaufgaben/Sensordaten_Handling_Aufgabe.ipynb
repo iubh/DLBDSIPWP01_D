{
 "cells": [
  {
   "cell_type": "markdown",
   "id": "ec7ee073-41fb-4f9b-86ee-acb658f723c6",
   "metadata": {},
   "source": [
    "## Aufgabe 3: Einfaches Sensordatenhandling (zwei Inertialsensoren)\n",
    "### Teil 1: Datenimport\n",
    "\n",
    "Die Textdatei `imu_data` enthält Sensormessungen nach folgendem Format: `<Zeitstempel in Sekunden> <LAccelerometer_x> <LAccelerometer_y> <LAccelerometer_z> <LGyroskop_x> <LGyroskop_y> <LGyroskop_z> <LMagnetometer_x> <LMagnetometer_y> <LMagnetometer_z> <RAccelerometer_x> <RAccelerometer_y> <RAccelerometer_z> <RGyroskop_x> <RGyroskop_y> <RGyroskop_z> <RMagnetometer_x> <RMagnetometer_y> <RMagnetometer_z>`. `L` steht dabei für den linken Fuß, `R` für den rechten. Dies meint die Körperstelle, an der der jeweilige Sensor angebracht war. Schaue dir den Dateiinhalt gerne einmal in einem Editor an.\n",
    "\n",
    "Lies die Datei in eine geeignete Datenstruktur ein (z.B. eine verschachtelte Liste oder ein NumPy Array). Gib zur Überprüfung die Daten zum ersten Zeitpunkt sowie die Anzahl der Zeitpunkte und Messdaten pro Zeitpunkt aus.\n",
    "\n",
    "**Anmerkungen:** Die Person ist während der Datenaufnahme gegangen. Accelerometer messen Linearbeschleunigungen, Gyroskope messen Winkelgeschwindigkeiten, Magnetometer messen Magnetfelder."
   ]
  },
  {
   "cell_type": "code",
   "execution_count": null,
   "id": "cfc3692a-7f45-4d54-8520-adc34c955c9a",
   "metadata": {},
   "outputs": [],
   "source": []
  },
  {
   "cell_type": "markdown",
   "id": "5e623f20-f56f-495f-b0ad-43d3f8572113",
   "metadata": {},
   "source": [
    "### Teil 2: Datenausfälle prüfen\n",
    "Die Daten wurden mit 60 Hz erhoben. Prüfe quantitativ und qualitativ, ob es Datenausfälle gab und ob die Zeitstempel wie aufgrund der Aufnahmefrequenz erwartet sind.\n",
    "\n",
    "**Hinweise:** Zur quantitativen Prüfung kannst du dir Minimum, Maximum und Mittelwert der Differenzen der Zeitstempel anschauen (jeweils Differenz aktueller Sample zum Vorgänger-Sample). Zur qualitativen Prüfung kannst du die Differenzen plotten."
   ]
  },
  {
   "cell_type": "code",
   "execution_count": null,
   "id": "c7721b0a-9c7d-4457-ba9d-678362d7f9ec",
   "metadata": {},
   "outputs": [],
   "source": []
  }
 ],
 "metadata": {
  "kernelspec": {
   "display_name": "Python 3 (ipykernel)",
   "language": "python",
   "name": "python3"
  },
  "language_info": {
   "codemirror_mode": {
    "name": "ipython",
    "version": 3
   },
   "file_extension": ".py",
   "mimetype": "text/x-python",
   "name": "python",
   "nbconvert_exporter": "python",
   "pygments_lexer": "ipython3",
   "version": "3.12.3"
  }
 },
 "nbformat": 4,
 "nbformat_minor": 5
}
