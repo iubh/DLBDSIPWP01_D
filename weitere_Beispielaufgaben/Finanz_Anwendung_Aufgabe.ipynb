{
 "cells": [
  {
   "cell_type": "markdown",
   "id": "b4be8fd1-2e06-4c88-b4ae-956b0eb73f0a",
   "metadata": {},
   "source": [
    "## Aufgabe 1: Einfache Finanz-Anwendung\n",
    "### Teil 1: Berechnung des Kapitals inklusive der Zinseszinsen\n",
    "Schreibe und teste eine Funktion, die den Endbetrag nach einer bestimmten Anzahl von Jahren bei gegebenem Anfangskapital, Zinssatz und Jahren berechnet."
   ]
  },
  {
   "cell_type": "code",
   "execution_count": null,
   "id": "ebb5f34f-3d77-4db2-89f0-0124670a84fe",
   "metadata": {},
   "outputs": [],
   "source": []
  },
  {
   "cell_type": "markdown",
   "id": "cf4a81f1-1fc4-46ff-9fb9-48baf8068f2d",
   "metadata": {},
   "source": [
    "### Teil 2: Berücksichtigung monatlicher Einzahlungen\n",
    "Modifiziere das Programm, um monatliche Einzahlungen zu berücksichtigen."
   ]
  },
  {
   "cell_type": "code",
   "execution_count": null,
   "id": "86566380-73f1-4a85-a826-531ee7ae6d25",
   "metadata": {},
   "outputs": [],
   "source": []
  },
  {
   "cell_type": "markdown",
   "id": "160bc2c8-b70f-46bb-9250-03a5d63a2342",
   "metadata": {},
   "source": [
    "### Teil 3: Benutzungsinteraktion\n",
    "Lasse den Benutzer oder die Benutzerin das Anfangskapital, den Zinssatz, die Jahre und die monatliche Einzahlung eingeben."
   ]
  },
  {
   "cell_type": "code",
   "execution_count": null,
   "id": "e1fa7fa1-6beb-45ea-95e1-0de4063d96ab",
   "metadata": {},
   "outputs": [],
   "source": []
  }
 ],
 "metadata": {
  "kernelspec": {
   "display_name": "Python 3 (ipykernel)",
   "language": "python",
   "name": "python3"
  },
  "language_info": {
   "codemirror_mode": {
    "name": "ipython",
    "version": 3
   },
   "file_extension": ".py",
   "mimetype": "text/x-python",
   "name": "python",
   "nbconvert_exporter": "python",
   "pygments_lexer": "ipython3",
   "version": "3.12.3"
  }
 },
 "nbformat": 4,
 "nbformat_minor": 5
}
