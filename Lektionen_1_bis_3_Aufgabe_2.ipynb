{
 "cells": [
  {
   "cell_type": "markdown",
   "id": "ad714107-716b-4590-b21c-79fed67de2d1",
   "metadata": {},
   "source": [
    "# Collections, bedingte Anweisungen, Schleifen, List Comprehensions\n",
    "## Verwalte den Python-Kurs\n",
    "Die Datei Lektionen_1_bis_3_Studierende.txt enthält Studierenden-Daten nach folgendem Schema: \\<Name\\>; \\<Studiengang\\>; \\<Semester\\>; \\<Programmiererfahrung\\>. Der Name ist eindeutig. Der Eintrag zur Programmiererfahrung kann verschiedene kommaseparierte Informationen enthalten, nach dem Schema: \\<Erfahrung1\\>, \\<Erfahrung2\\>, .... Pro Zeile sind die Daten einer Person erfasst. Du kannst die Datei in einem Texteditor öffnen, um dir das Format und die Inhalte anzuschauen.\n",
    "## Aufgabe A\n",
    "Lies die Daten aus der Datei ein und speichere sie strukturiert in einer Variablen `python_course`. Jede Person soll als Dictionary mit den in `keys` gegebenen Schlüsseln dargestellt werden. Die Programmiererfahrungen sollen pro Person in einem Set gespeichert werden. Der gesamte Kurs soll als Liste dargestellt werden.\n",
    "\n",
    "Tipps: \n",
    "* Recherchiere [hier](https://docs.python.org/3/tutorial/inputoutput.html#methods-of-file-objects), wie du Dateien zeilenweise einlesen kannst. \n",
    "* Erinnere dich an die String-Funktion, mit der du einen String \"zerschneiden\" kannst."
   ]
  },
  {
   "cell_type": "code",
   "execution_count": 2,
   "id": "77e71bbb-290d-4113-8664-b57b114b9b64",
   "metadata": {},
   "outputs": [],
   "source": [
    "#Die Schlüssel in dem Tupel (unveränderliche Liste) keys sollen zur Konstruktion der Dictionaries verwendet werden.\n",
    "#Führe diese Zelle einmal zu Beginn aus, so dass der Interpreter den Namen kennt\n",
    "keys = (\"Name\", \"Studiengang\", \"Semester\", \"Programmiererfahrung\")"
   ]
  },
  {
   "cell_type": "code",
   "execution_count": null,
   "id": "6e02c35f-2319-4c4e-9122-5a106680dff8",
   "metadata": {},
   "outputs": [],
   "source": []
  },
  {
   "cell_type": "markdown",
   "id": "6b45dc56-7d84-46d5-ae7c-a11d0395f8ef",
   "metadata": {},
   "source": [
    "## Aufgabe B\n",
    "* Gib die Teilnehmenden zeilenweise aus (eine Person pro Zeile)\n",
    "* Berechne das durchschnittliche Semester aller Teilnehmenden und gib dieses aus\n",
    "* Gib die Anzahl der Personen aus, die bereits Erfahrung mit Python haben"
   ]
  },
  {
   "cell_type": "code",
   "execution_count": null,
   "id": "10869b52-09c3-4209-ba22-abd26da0f206",
   "metadata": {},
   "outputs": [],
   "source": []
  },
  {
   "cell_type": "markdown",
   "id": "c88a17c1-6d33-4962-8f74-08c6c15fc66b",
   "metadata": {},
   "source": [
    "## Aufgabe C\n",
    "* Erstelle eine Liste der Namen aller Erstsemester unter Verwendung einer List Comprehension und gib diese aus"
   ]
  },
  {
   "cell_type": "code",
   "execution_count": null,
   "id": "4577e710",
   "metadata": {},
   "outputs": [],
   "source": []
  }
 ],
 "metadata": {
  "kernelspec": {
   "display_name": "Python 3 (ipykernel)",
   "language": "python",
   "name": "python3"
  },
  "language_info": {
   "codemirror_mode": {
    "name": "ipython",
    "version": 3
   },
   "file_extension": ".py",
   "mimetype": "text/x-python",
   "name": "python",
   "nbconvert_exporter": "python",
   "pygments_lexer": "ipython3",
   "version": "3.12.3"
  }
 },
 "nbformat": 4,
 "nbformat_minor": 5
}
